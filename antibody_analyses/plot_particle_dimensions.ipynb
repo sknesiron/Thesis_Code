{
 "cells": [
  {
   "cell_type": "code",
   "execution_count": 27,
   "metadata": {},
   "outputs": [],
   "source": [
    "import pandas as pd\n",
    "import matplotlib.pyplot as plt\n",
    "import seaborn as sns\n",
    "import numpy as np\n",
    "import matplotx\n",
    "from scipy.optimize import curve_fit\n",
    "import matplotlib.patheffects as pe\n",
    "\n",
    "\n",
    "plt.style.use(matplotx.styles.pitaya_smoothie[\"light\"])\n"
   ]
  },
  {
   "cell_type": "code",
   "execution_count": null,
   "metadata": {},
   "outputs": [
    {
     "data": {
      "application/vnd.microsoft.datawrangler.viewer.v0+json": {
       "columns": [
        {
         "name": "index",
         "rawType": "int64",
         "type": "integer"
        },
        {
         "name": "Frame",
         "rawType": "int64",
         "type": "integer"
        },
        {
         "name": "Area",
         "rawType": "float64",
         "type": "float"
        },
        {
         "name": "Yc",
         "rawType": "float64",
         "type": "float"
        },
        {
         "name": "Xc",
         "rawType": "float64",
         "type": "float"
        },
        {
         "name": "Minor Axis",
         "rawType": "float64",
         "type": "float"
        },
        {
         "name": "Major Axis",
         "rawType": "float64",
         "type": "float"
        },
        {
         "name": "Angle",
         "rawType": "float64",
         "type": "float"
        }
       ],
       "conversionMethod": "pd.DataFrame",
       "ref": "a7b1f489-3eff-4fbe-a5f3-5e1a1539052d",
       "rows": [
        [
         "0",
         "0",
         "3311.5423",
         "67.86782836914062",
         "71.24101257324219",
         "85.0143051147461",
         "94.50481414794922",
         "79.5360107421875"
        ],
        [
         "1",
         "1",
         "3768.9719",
         "82.31854248046875",
         "69.43608093261719",
         "75.67320251464844",
         "106.1800308227539",
         "173.4691925048828"
        ],
        [
         "2",
         "2",
         "2969.8479",
         "76.0840835571289",
         "72.50672149658203",
         "62.95499038696289",
         "93.2002944946289",
         "149.0317840576172"
        ],
        [
         "3",
         "3",
         "4133.4",
         "73.38475036621094",
         "74.99683380126953",
         "86.12259674072266",
         "98.38174438476562",
         "26.255615234375"
        ],
        [
         "4",
         "4",
         "3226.8076",
         "78.24919891357422",
         "79.5062484741211",
         "79.21809387207031",
         "100.88229370117188",
         "147.58705139160156"
        ],
        [
         "5",
         "5",
         "3697.3263",
         "78.75100708007812",
         "65.59288024902344",
         "82.07615661621094",
         "101.9612045288086",
         "117.89115142822266"
        ],
        [
         "6",
         "6",
         "2185.1908",
         "75.74903106689453",
         "69.17677307128906",
         "54.07852935791016",
         "97.7630386352539",
         "146.18905639648438"
        ],
        [
         "7",
         "7",
         "3557.4796",
         "71.18492126464844",
         "69.1405029296875",
         "74.04027557373047",
         "96.79507446289062",
         "171.65347290039062"
        ],
        [
         "8",
         "8",
         "5180.527999999999",
         "58.416500091552734",
         "61.25016021728516",
         "86.09040832519531",
         "112.143310546875",
         "143.8291015625"
        ],
        [
         "9",
         "9",
         "5715.8033",
         "78.10995483398438",
         "81.05413818359375",
         "86.54662322998047",
         "149.6106719970703",
         "141.60745239257812"
        ],
        [
         "10",
         "10",
         "4726.5429",
         "79.31645202636719",
         "67.87045288085938",
         "97.3685302734375",
         "115.00653839111328",
         "154.1964569091797"
        ],
        [
         "11",
         "11",
         "3311.5423",
         "84.63861083984375",
         "55.13393783569336",
         "52.83226013183594",
         "134.74085998535156",
         "18.65526008605957"
        ],
        [
         "12",
         "12",
         "4199.5344",
         "79.18116760253906",
         "57.5484733581543",
         "92.01016235351562",
         "98.78997802734376",
         "43.546531677246094"
        ],
        [
         "13",
         "13",
         "5104.749",
         "70.84876251220703",
         "65.8798599243164",
         "85.53282928466797",
         "122.35399627685548",
         "143.09127807617188"
        ],
        [
         "14",
         "14",
         "4132.7111",
         "78.65715026855469",
         "67.82493591308594",
         "83.841552734375",
         "98.00091552734376",
         "129.25222778320312"
        ],
        [
         "15",
         "15",
         "3753.8161",
         "74.93696594238281",
         "74.45126342773438",
         "83.42514038085938",
         "94.1381607055664",
         "110.3621063232422"
        ],
        [
         "16",
         "16",
         "4434.449299999999",
         "66.6578140258789",
         "58.15777587890625",
         "74.13160705566406",
         "129.0316162109375",
         "136.9685821533203"
        ],
        [
         "17",
         "17",
         "3450.0112",
         "77.67117309570312",
         "71.19926452636719",
         "66.71400451660156",
         "99.9735336303711",
         "60.43616485595703"
        ],
        [
         "18",
         "18",
         "4287.7136",
         "78.35763549804688",
         "54.776981353759766",
         "73.41741180419922",
         "116.4278793334961",
         "73.40409851074219"
        ],
        [
         "19",
         "19",
         "3425.2108",
         "69.3699951171875",
         "68.72766876220703",
         "64.4773178100586",
         "104.9249496459961",
         "115.66160583496094"
        ],
        [
         "20",
         "20",
         "4032.1317",
         "79.2919921875",
         "69.95474243164062",
         "88.4580078125",
         "98.62377166748048",
         "98.06499481201172"
        ],
        [
         "21",
         "21",
         "6222.1448",
         "65.43537902832031",
         "66.5911865234375",
         "94.5949249267578",
         "130.4197998046875",
         "153.2285919189453"
        ],
        [
         "22",
         "22",
         "3488.5896",
         "74.91743469238281",
         "65.26738739013672",
         "73.11113739013672",
         "98.61204528808594",
         "130.91197204589844"
        ],
        [
         "23",
         "23",
         "4349.0257",
         "75.25518798828125",
         "80.60546112060547",
         "83.97795867919922",
         "111.6005630493164",
         "98.80181884765624"
        ],
        [
         "24",
         "24",
         "3680.1038",
         "79.44222259521484",
         "65.83582305908203",
         "63.483619689941406",
         "123.25499725341795",
         "52.31217193603516"
        ],
        [
         "25",
         "25",
         "3906.063",
         "77.93212890625",
         "68.77577209472656",
         "81.8431167602539",
         "114.14832305908205",
         "105.85394287109376"
        ],
        [
         "26",
         "26",
         "3883.3293",
         "80.6285400390625",
         "75.38021850585938",
         "79.56169891357422",
         "99.4373016357422",
         "7.273893356323242"
        ],
        [
         "27",
         "27",
         "4153.3781",
         "64.05070495605469",
         "56.69253921508789",
         "85.40008544921875",
         "109.01424407958984",
         "130.93968200683594"
        ],
        [
         "28",
         "28",
         "3666.3258",
         "68.20108032226562",
         "64.73419952392578",
         "67.18647766113281",
         "104.3713836669922",
         "15.164100646972656"
        ],
        [
         "29",
         "29",
         "4575.6738",
         "89.42205810546875",
         "68.20401763916016",
         "93.27893829345705",
         "118.29424285888672",
         "7.172451972961426"
        ],
        [
         "30",
         "30",
         "4328.3587",
         "63.024017333984375",
         "80.89114379882812",
         "77.89039611816406",
         "115.42739868164062",
         "5.402803897857666"
        ],
        [
         "31",
         "31",
         "3826.1506",
         "75.21849822998047",
         "79.77540588378906",
         "77.9481201171875",
         "104.78654479980467",
         "68.04277801513672"
        ],
        [
         "32",
         "32",
         "3839.2397",
         "90.4798812866211",
         "69.65234375",
         "83.2321548461914",
         "102.53180694580078",
         "41.26726913452149"
        ],
        [
         "33",
         "33",
         "3563.6797",
         "79.45106506347656",
         "65.91567993164062",
         "71.78874206542969",
         "96.54470825195312",
         "25.28672981262207"
        ],
        [
         "34",
         "34",
         "4237.4239",
         "71.17662811279297",
         "67.62165832519531",
         "79.00094604492188",
         "107.58357238769533",
         "12.91696071624756"
        ],
        [
         "35",
         "35",
         "3710.4154",
         "81.77655029296875",
         "72.65157318115234",
         "70.53580474853516",
         "99.5620346069336",
         "168.8172607421875"
        ],
        [
         "36",
         "36",
         "5430.5987",
         "76.27767181396484",
         "74.40503692626953",
         "88.37648010253906",
         "143.0242462158203",
         "129.09886169433594"
        ],
        [
         "37",
         "37",
         "4045.9097",
         "70.82170104980469",
         "84.542236328125",
         "61.8299674987793",
         "130.80984497070312",
         "105.73624420166016"
        ],
        [
         "38",
         "38",
         "3828.2173",
         "69.39009857177734",
         "74.05506896972656",
         "72.60897827148438",
         "109.61624908447266",
         "158.0390167236328"
        ],
        [
         "39",
         "39",
         "4205.7345",
         "74.31855773925781",
         "73.30963897705078",
         "86.04354095458984",
         "117.53885650634766",
         "105.53782653808594"
        ],
        [
         "40",
         "40",
         "3434.8554",
         "81.88343048095703",
         "73.83955383300781",
         "80.439697265625",
         "92.175537109375",
         "49.43340301513672"
        ],
        [
         "41",
         "41",
         "5102.6823",
         "87.26840209960938",
         "83.88800048828125",
         "89.07386016845703",
         "125.1465072631836",
         "124.62317657470705"
        ],
        [
         "42",
         "42",
         "4198.156599999999",
         "70.16128540039062",
         "77.98170471191406",
         "89.9637451171875",
         "118.2547607421875",
         "2.2647056579589844"
        ],
        [
         "43",
         "43",
         "4874.6564",
         "98.62779998779295",
         "86.68559265136719",
         "100.9079132080078",
         "105.6460189819336",
         "102.620361328125"
        ],
        [
         "44",
         "44",
         "5327.9526",
         "67.7746353149414",
         "65.54537963867188",
         "99.7721939086914",
         "117.99492645263672",
         "20.127256393432617"
        ],
        [
         "45",
         "45",
         "3354.943",
         "74.98268127441406",
         "68.36468505859375",
         "71.65332794189453",
         "96.99891662597656",
         "3.2674100399017334"
        ],
        [
         "46",
         "46",
         "4393.8042",
         "71.62390899658203",
         "71.31827545166016",
         "84.4667739868164",
         "106.63256072998048",
         "16.8162841796875"
        ],
        [
         "47",
         "47",
         "3531.3014",
         "73.00762939453125",
         "61.070945739746094",
         "76.31963348388672",
         "92.19762420654295",
         "151.1912841796875"
        ],
        [
         "48",
         "48",
         "5038.6146",
         "84.33589935302734",
         "68.01615905761719",
         "100.79906463623048",
         "114.11849212646484",
         "110.10657501220705"
        ],
        [
         "49",
         "49",
         "4359.3592",
         "81.95394134521484",
         "55.46517181396485",
         "82.40254211425781",
         "116.7064437866211",
         "67.18061065673828"
        ]
       ],
       "shape": {
        "columns": 7,
        "rows": 996
       }
      },
      "text/html": [
       "<div>\n",
       "<style scoped>\n",
       "    .dataframe tbody tr th:only-of-type {\n",
       "        vertical-align: middle;\n",
       "    }\n",
       "\n",
       "    .dataframe tbody tr th {\n",
       "        vertical-align: top;\n",
       "    }\n",
       "\n",
       "    .dataframe thead th {\n",
       "        text-align: right;\n",
       "    }\n",
       "</style>\n",
       "<table border=\"1\" class=\"dataframe\">\n",
       "  <thead>\n",
       "    <tr style=\"text-align: right;\">\n",
       "      <th></th>\n",
       "      <th>Frame</th>\n",
       "      <th>Area</th>\n",
       "      <th>Yc</th>\n",
       "      <th>Xc</th>\n",
       "      <th>Minor Axis</th>\n",
       "      <th>Major Axis</th>\n",
       "      <th>Angle</th>\n",
       "    </tr>\n",
       "  </thead>\n",
       "  <tbody>\n",
       "    <tr>\n",
       "      <th>0</th>\n",
       "      <td>0</td>\n",
       "      <td>3311.5423</td>\n",
       "      <td>67.867828</td>\n",
       "      <td>71.241013</td>\n",
       "      <td>85.014305</td>\n",
       "      <td>94.504814</td>\n",
       "      <td>79.536011</td>\n",
       "    </tr>\n",
       "    <tr>\n",
       "      <th>1</th>\n",
       "      <td>1</td>\n",
       "      <td>3768.9719</td>\n",
       "      <td>82.318542</td>\n",
       "      <td>69.436081</td>\n",
       "      <td>75.673203</td>\n",
       "      <td>106.180031</td>\n",
       "      <td>173.469193</td>\n",
       "    </tr>\n",
       "    <tr>\n",
       "      <th>2</th>\n",
       "      <td>2</td>\n",
       "      <td>2969.8479</td>\n",
       "      <td>76.084084</td>\n",
       "      <td>72.506721</td>\n",
       "      <td>62.954990</td>\n",
       "      <td>93.200294</td>\n",
       "      <td>149.031784</td>\n",
       "    </tr>\n",
       "    <tr>\n",
       "      <th>3</th>\n",
       "      <td>3</td>\n",
       "      <td>4133.4000</td>\n",
       "      <td>73.384750</td>\n",
       "      <td>74.996834</td>\n",
       "      <td>86.122597</td>\n",
       "      <td>98.381744</td>\n",
       "      <td>26.255615</td>\n",
       "    </tr>\n",
       "    <tr>\n",
       "      <th>4</th>\n",
       "      <td>4</td>\n",
       "      <td>3226.8076</td>\n",
       "      <td>78.249199</td>\n",
       "      <td>79.506248</td>\n",
       "      <td>79.218094</td>\n",
       "      <td>100.882294</td>\n",
       "      <td>147.587051</td>\n",
       "    </tr>\n",
       "    <tr>\n",
       "      <th>...</th>\n",
       "      <td>...</td>\n",
       "      <td>...</td>\n",
       "      <td>...</td>\n",
       "      <td>...</td>\n",
       "      <td>...</td>\n",
       "      <td>...</td>\n",
       "      <td>...</td>\n",
       "    </tr>\n",
       "    <tr>\n",
       "      <th>991</th>\n",
       "      <td>991</td>\n",
       "      <td>3738.6603</td>\n",
       "      <td>65.163795</td>\n",
       "      <td>72.256042</td>\n",
       "      <td>65.743767</td>\n",
       "      <td>127.707542</td>\n",
       "      <td>14.576345</td>\n",
       "    </tr>\n",
       "    <tr>\n",
       "      <th>992</th>\n",
       "      <td>992</td>\n",
       "      <td>3471.3671</td>\n",
       "      <td>68.780518</td>\n",
       "      <td>71.340775</td>\n",
       "      <td>71.392509</td>\n",
       "      <td>117.837158</td>\n",
       "      <td>162.690033</td>\n",
       "    </tr>\n",
       "    <tr>\n",
       "      <th>993</th>\n",
       "      <td>993</td>\n",
       "      <td>4335.9366</td>\n",
       "      <td>77.914658</td>\n",
       "      <td>75.505661</td>\n",
       "      <td>86.177864</td>\n",
       "      <td>120.092735</td>\n",
       "      <td>148.367126</td>\n",
       "    </tr>\n",
       "    <tr>\n",
       "      <th>994</th>\n",
       "      <td>994</td>\n",
       "      <td>3133.1172</td>\n",
       "      <td>75.229927</td>\n",
       "      <td>76.284531</td>\n",
       "      <td>71.640930</td>\n",
       "      <td>90.911659</td>\n",
       "      <td>175.885056</td>\n",
       "    </tr>\n",
       "    <tr>\n",
       "      <th>995</th>\n",
       "      <td>995</td>\n",
       "      <td>3170.3178</td>\n",
       "      <td>79.385109</td>\n",
       "      <td>72.319740</td>\n",
       "      <td>79.374924</td>\n",
       "      <td>92.452126</td>\n",
       "      <td>40.685066</td>\n",
       "    </tr>\n",
       "  </tbody>\n",
       "</table>\n",
       "<p>996 rows × 7 columns</p>\n",
       "</div>"
      ],
      "text/plain": [
       "     Frame       Area         Yc         Xc  Minor Axis  Major Axis  \\\n",
       "0        0  3311.5423  67.867828  71.241013   85.014305   94.504814   \n",
       "1        1  3768.9719  82.318542  69.436081   75.673203  106.180031   \n",
       "2        2  2969.8479  76.084084  72.506721   62.954990   93.200294   \n",
       "3        3  4133.4000  73.384750  74.996834   86.122597   98.381744   \n",
       "4        4  3226.8076  78.249199  79.506248   79.218094  100.882294   \n",
       "..     ...        ...        ...        ...         ...         ...   \n",
       "991    991  3738.6603  65.163795  72.256042   65.743767  127.707542   \n",
       "992    992  3471.3671  68.780518  71.340775   71.392509  117.837158   \n",
       "993    993  4335.9366  77.914658  75.505661   86.177864  120.092735   \n",
       "994    994  3133.1172  75.229927  76.284531   71.640930   90.911659   \n",
       "995    995  3170.3178  79.385109  72.319740   79.374924   92.452126   \n",
       "\n",
       "          Angle  \n",
       "0     79.536011  \n",
       "1    173.469193  \n",
       "2    149.031784  \n",
       "3     26.255615  \n",
       "4    147.587051  \n",
       "..          ...  \n",
       "991   14.576345  \n",
       "992  162.690033  \n",
       "993  148.367126  \n",
       "994  175.885056  \n",
       "995   40.685066  \n",
       "\n",
       "[996 rows x 7 columns]"
      ]
     },
     "execution_count": 5,
     "metadata": {},
     "output_type": "execute_result"
    }
   ],
   "source": [
    "particle_size=pd.read_csv(\"results/dimensions_data.csv\")\n",
    "pixel_size=0.83\n",
    "particle_size"
   ]
  },
  {
   "cell_type": "code",
   "execution_count": 11,
   "metadata": {},
   "outputs": [],
   "source": [
    "def gaussian(x, amp, mean, std):\n",
    "        return amp * np.exp(-0.5 * ((x - mean) / std) ** 2)\n",
    "\n",
    "def fit_gaussian_to_data(data,bins=50):\n",
    "    \"\"\"\n",
    "    Fit a Gaussian to the data and return the fitted parameters.\n",
    "    \"\"\"\n",
    "    # Calculate histogram\n",
    "    hist, bin_edges = np.histogram(data, bins=bins)\n",
    "    bin_centers = 0.5 * (bin_edges[1:] + bin_edges[:-1])\n",
    "\n",
    "    # Fit Gaussian\n",
    "    mean = np.mean(data)\n",
    "    std = np.std(data)\n",
    "    amplitude = np.max(hist)\n",
    "\n",
    "    \n",
    "\n",
    "    popt, _ = curve_fit(gaussian, bin_centers, hist, p0=[amplitude, mean, std])\n",
    "\n",
    "    return popt\n"
   ]
  },
  {
   "cell_type": "code",
   "execution_count": 44,
   "metadata": {},
   "outputs": [],
   "source": [
    "def plot_gausian(data, bins=50,ax=None):\n",
    "    \"\"\"\n",
    "    Plot the histogram and fitted Gaussian.\n",
    "    \"\"\"\n",
    "    if ax is None:\n",
    "        fig, ax = plt.subplots(figsize=(8, 6))\n",
    "    # Calculate histogram\n",
    "    hist, bin_edges = np.histogram(data, bins=bins)\n",
    "    bin_centers = 0.5 * (bin_edges[1:] + bin_edges[:-1])\n",
    "\n",
    "    # Fit Gaussian\n",
    "    popt = fit_gaussian_to_data(data)\n",
    "\n",
    "    # Plot histogram\n",
    "    ax.hist(data, bins=bins, density=False, label='Data')\n",
    "\n",
    "    # Plot fitted Gaussian\n",
    "    x = np.linspace(bin_edges[0]-10, bin_edges[-1]+10, 100)\n",
    "    ax.plot(x, gaussian(x, *popt), 'r-', label='Fitted Gaussian')\n",
    "\n",
    "    ax.set_xlabel('Value')\n",
    "    ax.set_ylabel('Density')\n",
    "    ax.grid(False)\n",
    "    ax.text(popt[1]+10,popt[0],f\"{popt[1]:.3f} Å\",size=15,fontfamily=\"Century Gothic\",path_effects=[pe.withStroke(linewidth=2, foreground=\"white\")],verticalalignment=\"baseline\",clip_on=True)\n",
    "    ax.get_yaxis().set_visible(False)\n",
    "\n"
   ]
  },
  {
   "cell_type": "code",
   "execution_count": 46,
   "metadata": {},
   "outputs": [
    {
     "data": {
      "image/png": "[encoded data removed]",
      "text/plain": [
       "<Figure size 1000x1000 with 3 Axes>"
      ]
     },
     "metadata": {},
     "output_type": "display_data"
    }
   ],
   "source": [
    "fig, ax = plt.subplots(3,1,figsize=(10, 10))\n",
    "# Plot histograms and fitted Gaussian\n",
    "plot_gausian(particle_size.Area, bins=50,ax=ax[0])\n",
    "plot_gausian(particle_size[\"Major Axis\"]*pixel_size, bins=50,ax=ax[1])\n",
    "plot_gausian(particle_size[\"Minor Axis\"]*pixel_size, bins=50,ax=ax[2])\n",
    "ax[0].set(xlim=(000, 10000), ylabel=\"Counts\", xlabel=\"Area [Å^2]\")\n",
    "ax[1].set(xlim=(0, 200), ylabel=\"Counts\", xlabel=\"Height [Å]\")\n",
    "ax[2].set(xlim=(0, 200), ylabel=\"Counts\", xlabel=\"Width [Å]\")\n",
    "\n",
    "fig.savefig(\"results/particle_size.svg\", dpi=300, bbox_inches='tight')"
   ]
  }
 ],
 "metadata": {
  "kernelspec": {
   "display_name": "em_ab",
   "language": "python",
   "name": "python3"
  },
  "language_info": {
   "codemirror_mode": {
    "name": "ipython",
    "version": 3
   },
   "file_extension": ".py",
   "mimetype": "text/x-python",
   "name": "python",
   "nbconvert_exporter": "python",
   "pygments_lexer": "ipython3",
   "version": "3.12.7"
  }
 },
 "nbformat": 4,
 "nbformat_minor": 2
}
