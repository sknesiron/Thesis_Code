{
 "cells": [
  {
   "cell_type": "code",
   "execution_count": 17,
   "metadata": {},
   "outputs": [],
   "source": [
    "import starfile\n",
    "import pandas as pd\n",
    "import numpy as np\n",
    "from scipy.spatial.distance import pdist,cdist\n",
    "import matplotlib.pyplot as plt\n",
    "import seaborn as sns\n"
   ]
  },
  {
   "cell_type": "code",
   "execution_count": null,
   "metadata": {},
   "outputs": [],
   "source": [
    "def remove_single_entry_micrographs(df,micrographs):\n",
    "    \"\"\"\n",
    "    Remove micrographs that only have one particle associated with them\n",
    "    \"\"\"\n",
    "    for micrograph in micrographs:\n",
    "        if len(df[df.rlnMicrographName==micrograph])<=1:\n",
    "            df.drop(df[df.rlnMicrographName==micrograph].index, inplace=True)\n",
    "    return df\n",
    "\n",
    "def get_nearest_neighbor_distances(points):\n",
    "    # Compute the pairwise distances\n",
    "    distances = cdist(points, points)\n",
    "    # Set the diagonal to infinity to exclude self-distance\n",
    "    np.fill_diagonal(distances, np.inf)\n",
    "    # Find the minimum distance for each point\n",
    "    nearest_distances = np.min(distances, axis=0)\n",
    "    return nearest_distances\n",
    "\n",
    "def plot_nn_dist_mean(df_dist):\n",
    "    fig,ax=plt.subplots(2,1,figsize=(10,10))\n",
    "    ax[0].errorbar(df_dist.index-0.1,df_dist.mean_nn_distance,yerr=df_dist.std_nn_distance,label=\"measured\",fmt='o')\n",
    "    ax[0].errorbar(df_dist.index+0.1,df_dist.random_mean_nn_distance,yerr=df_dist.random_std_nn_distance,label=\"random\",fmt='o')\n",
    "    ax[0].set_title(\"Mean nearest neighbor distance\")\n",
    "    ax[0].set_xlabel(\"Micrograph\")\n",
    "    ax[0].set_ylabel(\"Distance (pixels)\")\n",
    "    ax[0].legend()\n",
    "    ax[1].scatter(df_dist.n_particles,df_dist.mean_nn_distance,label=\"measured\")\n",
    "    ax[1].scatter(df_dist.n_particles,df_dist.random_mean_nn_distance,label=\"random\")\n",
    "    ax[1].set_title(\"Mean nearest neighbor distance\")\n",
    "    ax[1].set_xlabel(\"Number of particles\")\n",
    "    ax[1].set_ylabel(\"Distance (pixels)\")\n",
    "    ax[1].legend()\n",
    "\n",
    "\n",
    "    plt.show()\n",
    "\n",
    "def plot_nn_dist_median(df_dist):\n",
    "    fig,ax=plt.subplots(2,1,figsize=(10,10))\n",
    "    ax[0].errorbar(df_dist.index-0.1,df_dist.mean_nn_distance,yerr=df_dist.std_nn_distance,label=\"measured\",fmt='o')\n",
    "    ax[0].errorbar(df_dist.index+0.1,df_dist.random_mean_nn_distance,yerr=df_dist.random_std_nn_distance,label=\"random\",fmt='o')\n",
    "    ax[0].set_title(\"Median nearest neighbor distance\")\n",
    "    ax[0].set_xlabel(\"Micrograph\")\n",
    "    ax[0].set_ylabel(\"Distance (pixels)\")\n",
    "    ax[0].legend()\n",
    "    ax[1].scatter(df_dist.n_particles,df_dist.median_nn_distance,label=\"measured\")\n",
    "    ax[1].scatter(df_dist.n_particles,df_dist.random_median_nn_distance,label=\"random\")\n",
    "    ax[1].set_title(\"Median nearest neighbor distance\")\n",
    "    ax[1].set_xlabel(\"Number of particles\")\n",
    "    ax[1].set_ylabel(\"Distance (pixels)\")\n",
    "    ax[1].legend()\n",
    "\n",
    "def t_test(a,b):\n",
    "    from scipy.stats import ttest_ind\n",
    "    t_stat, p_val = ttest_ind(a, b)\n",
    "    return t_stat, p_val\n",
    "\n",
    "def ks_test(a,b):\n",
    "    from scipy.stats import ks_2samp\n",
    "    ks_stat, p_val = ks_2samp(a, b)\n",
    "    return ks_stat, p_val"
   ]
  },
  {
   "cell_type": "code",
   "execution_count": null,
   "metadata": {},
   "outputs": [
    {
     "name": "stdout",
     "output_type": "stream",
     "text": []
    }
   ],
   "source": [
    "df=starfile.read('data/particles.star')[\"particles\"]\n",
    "micrographs=list(df.rlnMicrographName.unique())\n",
    "df=remove_single_entry_micrographs(df,micrographs)\n",
    "micrographs=list(df.rlnMicrographName.unique())\n",
    "df"
   ]
  },
  {
   "cell_type": "code",
   "execution_count": null,
   "metadata": {},
   "outputs": [
    {
     "name": "stdout",
     "output_type": "stream",
     "text": []
    }
   ],
   "source": [
    "ppm=[np.array((df[df.rlnMicrographName==mg].rlnCoordinateX,df[df.rlnMicrographName==mg].rlnCoordinateY)).T for mg in micrographs if len(df[df.rlnMicrographName==mg])>1]\n",
    "\n",
    "\n",
    "\n",
    "distances=[pdist(arr) for arr in ppm]\n",
    "\n",
    "nn_dist_measured=[get_nearest_neighbor_distances(arr) for arr in ppm]\n",
    "\n",
    "df_dist=pd.DataFrame(\n",
    "    {\n",
    "        \"micrograph\":micrographs,\n",
    "        \"n_particles\":[arr.shape[0] for arr in ppm],\n",
    "        \"mean_distance\":[np.mean(d) for d in distances],\n",
    "        \"sem_distance\":[np.std(d)/np.sqrt(len(d)) for d in distances],\n",
    "        \"std_distance\":[np.std(d) for d in distances],\n",
    "        \"mean_nn_distance\":[np.mean(d) for d in nn_dist_measured],\n",
    "        \"sem_nn_distance\":[np.std(d)/np.sqrt(len(d)) for d in nn_dist_measured],\n",
    "        \"std_nn_distance\":[np.std(d) for d in nn_dist_measured],\n",
    "        \"median_nn_distance\":[np.median(d) for d in nn_dist_measured],\n",
    "        }\n",
    ")\n",
    "\n",
    "df_dist"
   ]
  },
  {
   "cell_type": "code",
   "execution_count": null,
   "metadata": {},
   "outputs": [
    {
     "name": "stdout",
     "output_type": "stream",
     "text": []
    },
    {
     "name": "stdout",
     "output_type": "stream",
     "text": []
    }
   ],
   "source": [
    "all_random_dist=[]\n",
    "\n",
    "for i, row in df_dist.iterrows():\n",
    "    arr=np.random.rand(row.n_particles,2)\n",
    "    arr=np.array((arr[:,0]*(df.rlnCoordinateX.max()-df.rlnCoordinateX.min())+df.rlnCoordinateX.min(),arr[:,1]*(df.rlnCoordinateY.max()-df.rlnCoordinateY.min())+df.rlnCoordinateY.min())).T.astype(int)\n",
    "    distances=pdist(arr)\n",
    "    nn_dist=get_nearest_neighbor_distances(arr)\n",
    "    all_random_dist.append(nn_dist)\n",
    "    df_dist.loc[i,\"random_mean_distance\"]=np.mean(distances)\n",
    "    df_dist.loc[i,\"random_sem_distance\"]=np.std(distances)/np.sqrt(len(distances))\n",
    "    df_dist.loc[i,\"random_std_distance\"]=np.std(distances)\n",
    "    df_dist.loc[i,\"random_mean_nn_distance\"]=np.mean(nn_dist)\n",
    "    df_dist.loc[i,\"random_sem_nn_distance\"]=np.std(nn_dist)/np.sqrt(len(nn_dist))\n",
    "    df_dist.loc[i,\"random_std_nn_distance\"]=np.std(nn_dist)\n",
    "    df_dist.loc[i,\"random_median_nn_distance\"]=np.median(nn_dist)\n",
    "    if i==50:\n",
    "        arr_rand_plot=arr\n",
    "\n",
    "fig,ax=plt.subplots(1,2,figsize=(10,10))\n",
    "ax[0].scatter(ppm[50][:,0],ppm[50][:,1],marker=\"x\", color='k')\n",
    "ax[0].set_title(f\"Measured {ppm[50].shape[0]} particles\")\n",
    "ax[0].set_xlim(0,4096)\n",
    "ax[0].set_ylim(0,4096)\n",
    "ax[1].scatter(arr_rand_plot[:,0],arr_rand_plot[:,1],marker=\"x\", color='k')\n",
    "ax[1].set_title(f\"Random {arr_rand_plot.shape[0]} particles\")\n",
    "ax[1].set_xlim(0,4096)\n",
    "ax[1].set_ylim(0,4096)\n",
    "ax[0].set_aspect('equal')\n",
    "ax[1].set_aspect('equal')\n",
    "\n",
    "plot_nn_dist_mean(df_dist)\n",
    "plot_nn_dist_median(df_dist)\n"
   ]
  },
  {
   "cell_type": "code",
   "execution_count": null,
   "metadata": {},
   "outputs": [
    {
     "name": "stdout",
     "output_type": "stream",
     "text": []
    },
    {
     "name": "stdout",
     "output_type": "stream",
     "text": []
    }
   ],
   "source": [
    "meas_nn=np.concat(nn_dist_measured)\n",
    "rng_nn=np.concat(all_random_dist)\n",
    "\n",
    "t_stat, p_val = t_test(meas_nn, rng_nn)\n",
    "print(f\"T-test: t_stat={t_stat}, p_val={p_val}, means={np.mean(meas_nn)}, {np.mean(rng_nn)}\")\n",
    "ks_stat, p_val = ks_test(meas_nn, rng_nn)\n",
    "print(f\"KS-test: ks_stat={ks_stat}, p_val={p_val}, medians={np.median(meas_nn)}, {np.median(rng_nn)}\")\n",
    "\n",
    "\n",
    "fig,ax=plt.subplots(1,3,figsize=(15,4))\n",
    "ax[0].scatter(ppm[50][:,0],ppm[50][:,1],marker=\"x\", color='k')\n",
    "ax[0].set_title(f\"Measured {ppm[50].shape[0]} particles\")\n",
    "ax[0].set_xlim(0,4096)\n",
    "ax[0].set_ylim(0,4096)\n",
    "ax[0].get_xaxis().set_visible(False)\n",
    "ax[0].get_yaxis().set_visible(False)\n",
    "ax[1].scatter(arr_rand_plot[:,0],arr_rand_plot[:,1],marker=\"x\", color='k')\n",
    "ax[1].set_title(f\"Random {arr_rand_plot.shape[0]} particles\")\n",
    "ax[1].set_xlim(0,4096)\n",
    "ax[1].set_ylim(0,4096)\n",
    "ax[1].get_xaxis().set_visible(False)\n",
    "ax[1].get_yaxis().set_visible(False)\n",
    "ax[0].set_aspect('equal')\n",
    "ax[1].set_aspect('equal')\n",
    "sns.violinplot(pd.DataFrame({\"Picked Particles\":meas_nn,\"Random Particles\":rng_nn}),ax=ax[2])\n",
    "sns.despine(ax=ax[2],offset=10)\n",
    "\n",
    "fig.savefig(\"results/nn_distances.svg\", dpi=300, bbox_inches='tight',transparent=True)"
   ]
  }
 ],
 "metadata": {
  "kernelspec": {
   "display_name": "em_ab",
   "language": "python",
   "name": "python3"
  },
  "language_info": {
   "codemirror_mode": {
    "name": "ipython",
    "version": 3
   },
   "file_extension": ".py",
   "mimetype": "text/x-python",
   "name": "python",
   "nbconvert_exporter": "python",
   "pygments_lexer": "ipython3",
   "version": "3.12.7"
  }
 },
 "nbformat": 4,
 "nbformat_minor": 2
}
