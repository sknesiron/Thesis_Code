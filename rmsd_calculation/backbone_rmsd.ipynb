{
 "cells": [
  {
   "cell_type": "code",
   "execution_count": 1,
   "metadata": {},
   "outputs": [],
   "source": [
    "from Bio import PDB\n",
    "import numpy as np"
   ]
  },
  {
   "cell_type": "code",
   "execution_count": null,
   "metadata": {},
   "outputs": [],
   "source": [
    "parser=PDB.PDBParser(QUIET=True)\n",
    "structure1 = parser.get_structure(\"model1\", r\"path-to-model1.pdb\")\n",
    "structure2 = parser.get_structure(\"model2\", r\"path-to-model2.pdb\")\n"
   ]
  },
  {
   "cell_type": "code",
   "execution_count": null,
   "metadata": {},
   "outputs": [],
   "source": [
    "def get_common_atoms(structure1, structure2):\n",
    "    \"\"\"Extracts atom coordinates for only the common atoms in two structures.\"\"\"\n",
    "    atoms1 = {atom.get_id(): atom for atom in structure1.get_atoms()}\n",
    "    atoms2 = {atom.get_id(): atom for atom in structure2.get_atoms()}\n",
    "    \n",
    "    common_keys = set(atoms1.keys()).intersection(set(atoms2.keys()))\n",
    "    \n",
    "    coords1 = np.array([atoms1[key].coord for key in common_keys])\n",
    "    coords2 = np.array([atoms2[key].coord for key in common_keys])\n",
    "    \n",
    "    return coords1, coords2\n",
    "\n",
    "def get_common_ca_atoms(structure1, structure2):\n",
    "    \"\"\"Extracts Cα atom coordinates for only the common residues in two structures.\"\"\"\n",
    "    ca_atoms1 = {atom.get_parent().get_id()[1]: atom for atom in structure1.get_atoms() if atom.get_name() == \"CA\"}\n",
    "    ca_atoms2 = {atom.get_parent().get_id()[1]: atom for atom in structure2.get_atoms() if atom.get_name() == \"CA\"}\n",
    "    \n",
    "    common_residues = set(ca_atoms1.keys()).intersection(set(ca_atoms2.keys()))\n",
    "    \n",
    "    coords1 = np.array([ca_atoms1[res].coord for res in sorted(common_residues)])\n",
    "    coords2 = np.array([ca_atoms2[res].coord for res in sorted(common_residues)])\n",
    "    \n",
    "    return coords1, coords2\n",
    "\n",
    "def get_common_ca_atoms_chain(structure1, structure2, chain_id=\"A\"):\n",
    "    \"\"\"Extracts Cα atom coordinates for only the common residues in a specified chain.\"\"\"\n",
    "    ca_atoms1 = {res.get_id()[1]: atom for res in structure1[0][chain_id]\n",
    "                 for atom in res if atom.get_name() == \"CA\"}\n",
    "    ca_atoms2 = {res.get_id()[1]: atom for res in structure2[0][chain_id]\n",
    "                 for atom in res if atom.get_name() == \"CA\"}\n",
    "\n",
    "    # Find common residue numbers\n",
    "    common_residues = sorted(set(ca_atoms1.keys()) & set(ca_atoms2.keys()))\n",
    "\n",
    "    coords1 = [ca_atoms1[r].coord for r in common_residues]\n",
    "    coords2 = [ca_atoms2[r].coord for r in common_residues]\n",
    "\n",
    "    return coords1, coords2\n",
    "\n",
    "def calculate_rmsd(coords1, coords2):\n",
    "    \"\"\"Computes RMSD given two sets of atomic coordinates.\"\"\"\n",
    "    diff = coords1 - coords2\n",
    "    return np.sqrt(np.mean(np.sum(diff**2, axis=1)))"
   ]
  },
  {
   "cell_type": "code",
   "execution_count": null,
   "metadata": {},
   "outputs": [
    {
     "name": "stdout",
     "output_type": "stream",
     "text": [
      "50.267014\n"
     ]
    },
    {
     "data": {
      "text/plain": [
       "np.float32(1.1080964)"
      ]
     },
     "execution_count": 12,
     "metadata": {},
     "output_type": "execute_result"
    }
   ],
   "source": [
    "full_coords_1=[]\n",
    "full_coords_2=[]\n",
    "\n",
    "\n",
    "for chain in \"ABCDEFGHIJKLMNOPQRSTUVWXYZ\":\n",
    "    try:\n",
    "        coords1, coords2 = get_common_ca_atoms_chain(structure1, structure2,chain_id=chain)\n",
    "        full_coords_1.extend(coords1)\n",
    "        full_coords_2.extend(coords2)\n",
    "    except:\n",
    "        pass\n",
    "\n",
    "coords_1=np.array(full_coords_1)\n",
    "coords_2=np.array(full_coords_2)\n",
    "\n",
    "rmsd_value = calculate_rmsd(coords_1, coords_2)\n",
    "rmsd_value"
   ]
  }
 ],
 "metadata": {
  "kernelspec": {
   "display_name": "struct",
   "language": "python",
   "name": "python3"
  },
  "language_info": {
   "codemirror_mode": {
    "name": "ipython",
    "version": 3
   },
   "file_extension": ".py",
   "mimetype": "text/x-python",
   "name": "python",
   "nbconvert_exporter": "python",
   "pygments_lexer": "ipython3",
   "version": "3.13.2"
  }
 },
 "nbformat": 4,
 "nbformat_minor": 2
}
